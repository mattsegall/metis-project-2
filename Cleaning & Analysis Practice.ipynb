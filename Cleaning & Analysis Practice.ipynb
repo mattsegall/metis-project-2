{
 "cells": [
  {
   "cell_type": "code",
   "execution_count": 5,
   "id": "desperate-webmaster",
   "metadata": {},
   "outputs": [],
   "source": [
    "import pandas as pd\n",
    "import numpy as np\n",
    "import pickle\n",
    "import statsmodels.api as sm\n",
    "import statsmodels.formula.api as smf\n",
    "\n",
    "import seaborn as sns\n",
    "import matplotlib.pyplot as plt\n",
    "from sklearn.linear_model import LinearRegression"
   ]
  },
  {
   "cell_type": "code",
   "execution_count": 6,
   "id": "improved-boost",
   "metadata": {},
   "outputs": [
    {
     "name": "stdout",
     "output_type": "stream",
     "text": [
      "Populating the interactive namespace from numpy and matplotlib\n"
     ]
    }
   ],
   "source": [
    "%pylab inline\n",
    "%config InlineBackend.figure_formats = ['retina']\n",
    "\n",
    "sns.set_style(\"whitegrid\", {\"font.family\": [\"serif\"]})\n",
    "sns.set_context(\"talk\")"
   ]
  },
  {
   "cell_type": "code",
   "execution_count": 221,
   "id": "surprised-station",
   "metadata": {},
   "outputs": [],
   "source": [
    "with open('wine_data_longer.pkl', 'rb') as picklefile: \n",
    "    wine_data = pickle.load(picklefile)"
   ]
  },
  {
   "cell_type": "code",
   "execution_count": 222,
   "id": "crazy-thing",
   "metadata": {},
   "outputs": [
    {
     "data": {
      "text/html": [
       "<div>\n",
       "<style scoped>\n",
       "    .dataframe tbody tr th:only-of-type {\n",
       "        vertical-align: middle;\n",
       "    }\n",
       "\n",
       "    .dataframe tbody tr th {\n",
       "        vertical-align: top;\n",
       "    }\n",
       "\n",
       "    .dataframe thead th {\n",
       "        text-align: right;\n",
       "    }\n",
       "</style>\n",
       "<table border=\"1\" class=\"dataframe\">\n",
       "  <thead>\n",
       "    <tr style=\"text-align: right;\">\n",
       "      <th></th>\n",
       "      <th>Average Rating</th>\n",
       "      <th>Winery</th>\n",
       "      <th>Wine Name</th>\n",
       "      <th>Vintage</th>\n",
       "      <th>Type</th>\n",
       "      <th>Region</th>\n",
       "      <th>Country</th>\n",
       "      <th>Number of Reviews</th>\n",
       "      <th>Average Price</th>\n",
       "    </tr>\n",
       "  </thead>\n",
       "  <tbody>\n",
       "    <tr>\n",
       "      <th>0</th>\n",
       "      <td>4.298098</td>\n",
       "      <td>Veuve Clicquot</td>\n",
       "      <td>Brut (Carte Jaune) Champagne</td>\n",
       "      <td>N.V.</td>\n",
       "      <td>Sparkling wine</td>\n",
       "      <td>Champagne</td>\n",
       "      <td>France</td>\n",
       "      <td>98098</td>\n",
       "      <td>49.99</td>\n",
       "    </tr>\n",
       "    <tr>\n",
       "      <th>1</th>\n",
       "      <td>4.187012</td>\n",
       "      <td>Moët &amp; Chandon</td>\n",
       "      <td>Impérial Brut Champagne</td>\n",
       "      <td>N.V.</td>\n",
       "      <td>Sparkling wine</td>\n",
       "      <td>Champagne</td>\n",
       "      <td>France</td>\n",
       "      <td>87012</td>\n",
       "      <td>error</td>\n",
       "    </tr>\n",
       "    <tr>\n",
       "      <th>2</th>\n",
       "      <td>3.767924</td>\n",
       "      <td>Casal Garcia</td>\n",
       "      <td>Vinho Verde Branco</td>\n",
       "      <td>N.V.</td>\n",
       "      <td>White wine</td>\n",
       "      <td>Vinho Verde</td>\n",
       "      <td>Portugal</td>\n",
       "      <td>67924</td>\n",
       "      <td>error</td>\n",
       "    </tr>\n",
       "    <tr>\n",
       "      <th>3</th>\n",
       "      <td>4.352855</td>\n",
       "      <td>Farnese</td>\n",
       "      <td>Edizione Cinque Autoctoni</td>\n",
       "      <td>N.V.</td>\n",
       "      <td>Red wine</td>\n",
       "      <td>Abruzzo</td>\n",
       "      <td>Italy</td>\n",
       "      <td>52855</td>\n",
       "      <td>error</td>\n",
       "    </tr>\n",
       "    <tr>\n",
       "      <th>4</th>\n",
       "      <td>3.847411</td>\n",
       "      <td>Piccini</td>\n",
       "      <td>Memoro Rosso</td>\n",
       "      <td>N.V.</td>\n",
       "      <td>Red wine</td>\n",
       "      <td>Toscana</td>\n",
       "      <td>Italy</td>\n",
       "      <td>47411</td>\n",
       "      <td>10.99</td>\n",
       "    </tr>\n",
       "  </tbody>\n",
       "</table>\n",
       "</div>"
      ],
      "text/plain": [
       "  Average Rating          Winery                     Wine Name Vintage  \\\n",
       "0       4.298098  Veuve Clicquot  Brut (Carte Jaune) Champagne    N.V.   \n",
       "1       4.187012  Moët & Chandon       Impérial Brut Champagne    N.V.   \n",
       "2       3.767924    Casal Garcia            Vinho Verde Branco    N.V.   \n",
       "3       4.352855         Farnese     Edizione Cinque Autoctoni    N.V.   \n",
       "4       3.847411         Piccini                  Memoro Rosso    N.V.   \n",
       "\n",
       "             Type       Region   Country Number of Reviews Average Price  \n",
       "0  Sparkling wine    Champagne    France             98098         49.99  \n",
       "1  Sparkling wine    Champagne    France             87012         error  \n",
       "2      White wine  Vinho Verde  Portugal             67924         error  \n",
       "3        Red wine      Abruzzo     Italy             52855         error  \n",
       "4        Red wine      Toscana     Italy             47411         10.99  "
      ]
     },
     "execution_count": 222,
     "metadata": {},
     "output_type": "execute_result"
    }
   ],
   "source": [
    "wine_data.head()"
   ]
  },
  {
   "cell_type": "code",
   "execution_count": null,
   "id": "electric-archive",
   "metadata": {},
   "outputs": [],
   "source": []
  },
  {
   "cell_type": "code",
   "execution_count": 223,
   "id": "amended-permission",
   "metadata": {},
   "outputs": [],
   "source": [
    "#remove rows with no average price\n",
    "wine_data = wine_data[wine_data['Average Price'] != 'error']"
   ]
  },
  {
   "cell_type": "code",
   "execution_count": 168,
   "id": "stopped-convergence",
   "metadata": {},
   "outputs": [],
   "source": [
    "#move number of reviews out of average rating\n",
    "'''\n",
    "def strip_paren(x):\n",
    "    if \"(\" in x:\n",
    "        return x.split(\"(\")[1]\n",
    "    else:\n",
    "        pass\n",
    "'''"
   ]
  },
  {
   "cell_type": "code",
   "execution_count": 169,
   "id": "after-poverty",
   "metadata": {},
   "outputs": [
    {
     "name": "stderr",
     "output_type": "stream",
     "text": [
      "<ipython-input-169-4b8022bec6c3>:1: SettingWithCopyWarning: \n",
      "A value is trying to be set on a copy of a slice from a DataFrame.\n",
      "Try using .loc[row_indexer,col_indexer] = value instead\n",
      "\n",
      "See the caveats in the documentation: https://pandas.pydata.org/pandas-docs/stable/user_guide/indexing.html#returning-a-view-versus-a-copy\n",
      "  wine_data_clean['Number of Reviews'] = wine_data_clean['Average Rating'].apply(strip_paren)\n",
      "<ipython-input-169-4b8022bec6c3>:3: SettingWithCopyWarning: \n",
      "A value is trying to be set on a copy of a slice from a DataFrame.\n",
      "Try using .loc[row_indexer,col_indexer] = value instead\n",
      "\n",
      "See the caveats in the documentation: https://pandas.pydata.org/pandas-docs/stable/user_guide/indexing.html#returning-a-view-versus-a-copy\n",
      "  wine_data_clean['Average Rating'] = wine_data_clean['Average Rating'].apply(lambda x: str(x).split('(')[0])\n",
      "<ipython-input-169-4b8022bec6c3>:4: SettingWithCopyWarning: \n",
      "A value is trying to be set on a copy of a slice from a DataFrame.\n",
      "Try using .loc[row_indexer,col_indexer] = value instead\n",
      "\n",
      "See the caveats in the documentation: https://pandas.pydata.org/pandas-docs/stable/user_guide/indexing.html#returning-a-view-versus-a-copy\n",
      "  wine_data_clean['Number of Reviews'] = wine_data_clean['Number of Reviews'].apply(lambda x: str(x).replace(')', ''))\n"
     ]
    }
   ],
   "source": [
    "'''\n",
    "wine_data_clean['Number of Reviews'] = wine_data_clean['Average Rating'].apply(strip_paren)\n",
    "wine_data_clean['Number of Reviews'].replace(')', '')\n",
    "wine_data_clean['Average Rating'] = wine_data_clean['Average Rating'].apply(lambda x: str(x).split('(')[0])\n",
    "wine_data_clean['Number of Reviews'] = wine_data_clean['Number of Reviews'].apply(lambda x: str(x).replace(')', ''))\n",
    "'''"
   ]
  },
  {
   "cell_type": "code",
   "execution_count": 262,
   "id": "stuffed-symbol",
   "metadata": {},
   "outputs": [],
   "source": [
    "#get rid of rows with messed up avg rating - its not many\n",
    "#wine_data = wine_data[~wine_data[\"Average Rating\"].isin(['('])]\n",
    "wine_data = wine_data[:1400]"
   ]
  },
  {
   "cell_type": "code",
   "execution_count": 269,
   "id": "stainless-luxembourg",
   "metadata": {},
   "outputs": [],
   "source": [
    "#drop rows with no year\n",
    "wine_data = wine_data[wine_data['Vintage'] != 'N.V.']"
   ]
  },
  {
   "cell_type": "code",
   "execution_count": null,
   "id": "rental-basement",
   "metadata": {},
   "outputs": [],
   "source": []
  },
  {
   "cell_type": "code",
   "execution_count": 270,
   "id": "statewide-providence",
   "metadata": {},
   "outputs": [
    {
     "name": "stderr",
     "output_type": "stream",
     "text": [
      "<ipython-input-270-fd1063de43cc>:2: SettingWithCopyWarning: \n",
      "A value is trying to be set on a copy of a slice from a DataFrame.\n",
      "Try using .loc[row_indexer,col_indexer] = value instead\n",
      "\n",
      "See the caveats in the documentation: https://pandas.pydata.org/pandas-docs/stable/user_guide/indexing.html#returning-a-view-versus-a-copy\n",
      "  wine_data['Average Rating'] = wine_data['Average Rating'].astype(float)\n",
      "<ipython-input-270-fd1063de43cc>:3: SettingWithCopyWarning: \n",
      "A value is trying to be set on a copy of a slice from a DataFrame.\n",
      "Try using .loc[row_indexer,col_indexer] = value instead\n",
      "\n",
      "See the caveats in the documentation: https://pandas.pydata.org/pandas-docs/stable/user_guide/indexing.html#returning-a-view-versus-a-copy\n",
      "  wine_data['Number of Reviews'] = wine_data['Number of Reviews'].astype(int)\n",
      "<ipython-input-270-fd1063de43cc>:4: SettingWithCopyWarning: \n",
      "A value is trying to be set on a copy of a slice from a DataFrame.\n",
      "Try using .loc[row_indexer,col_indexer] = value instead\n",
      "\n",
      "See the caveats in the documentation: https://pandas.pydata.org/pandas-docs/stable/user_guide/indexing.html#returning-a-view-versus-a-copy\n",
      "  wine_data['Average Price'] = wine_data['Average Price'].astype(float)\n",
      "<ipython-input-270-fd1063de43cc>:5: SettingWithCopyWarning: \n",
      "A value is trying to be set on a copy of a slice from a DataFrame.\n",
      "Try using .loc[row_indexer,col_indexer] = value instead\n",
      "\n",
      "See the caveats in the documentation: https://pandas.pydata.org/pandas-docs/stable/user_guide/indexing.html#returning-a-view-versus-a-copy\n",
      "  wine_data['Vintage'] = wine_data['Vintage'].astype(int)\n"
     ]
    }
   ],
   "source": [
    "#convert to numerical\n",
    "wine_data['Average Rating'] = wine_data['Average Rating'].astype(float)\n",
    "wine_data['Number of Reviews'] = wine_data['Number of Reviews'].astype(int)\n",
    "wine_data['Average Price'] = wine_data['Average Price'].astype(float)\n",
    "wine_data['Vintage'] = wine_data['Vintage'].astype(int)"
   ]
  },
  {
   "cell_type": "code",
   "execution_count": 273,
   "id": "revolutionary-force",
   "metadata": {},
   "outputs": [
    {
     "data": {
      "text/plain": [
       "(1288, 9)"
      ]
     },
     "execution_count": 273,
     "metadata": {},
     "output_type": "execute_result"
    }
   ],
   "source": [
    "wine_data.shape"
   ]
  },
  {
   "cell_type": "code",
   "execution_count": 274,
   "id": "absent-cradle",
   "metadata": {},
   "outputs": [],
   "source": [
    "#other Cleaning?"
   ]
  },
  {
   "cell_type": "code",
   "execution_count": null,
   "id": "opening-anchor",
   "metadata": {},
   "outputs": [],
   "source": [
    "#FOLLOW PRE-processing notebook\n",
    "#convert categoricals and"
   ]
  },
  {
   "cell_type": "code",
   "execution_count": 277,
   "id": "knowing-purpose",
   "metadata": {},
   "outputs": [],
   "source": [
    "\n"
   ]
  },
  {
   "cell_type": "code",
   "execution_count": null,
   "id": "early-coordination",
   "metadata": {},
   "outputs": [],
   "source": [
    "#convert year into age"
   ]
  },
  {
   "cell_type": "code",
   "execution_count": null,
   "id": "boring-seller",
   "metadata": {},
   "outputs": [],
   "source": []
  },
  {
   "cell_type": "code",
   "execution_count": 23,
   "id": "sunrise-diving",
   "metadata": {},
   "outputs": [],
   "source": []
  },
  {
   "cell_type": "code",
   "execution_count": 16,
   "id": "known-shade",
   "metadata": {},
   "outputs": [],
   "source": []
  },
  {
   "cell_type": "code",
   "execution_count": null,
   "id": "patent-milwaukee",
   "metadata": {},
   "outputs": [],
   "source": []
  },
  {
   "cell_type": "code",
   "execution_count": null,
   "id": "comparable-paraguay",
   "metadata": {},
   "outputs": [],
   "source": []
  },
  {
   "cell_type": "code",
   "execution_count": null,
   "id": "developmental-pitch",
   "metadata": {},
   "outputs": [],
   "source": [
    "#reg test"
   ]
  },
  {
   "cell_type": "code",
   "execution_count": 61,
   "id": "inside-fisher",
   "metadata": {},
   "outputs": [
    {
     "data": {
      "text/plain": [
       "LinearRegression()"
      ]
     },
     "execution_count": 61,
     "metadata": {},
     "output_type": "execute_result"
    }
   ],
   "source": []
  },
  {
   "cell_type": "code",
   "execution_count": 62,
   "id": "based-forth",
   "metadata": {},
   "outputs": [
    {
     "data": {
      "text/plain": [
       "array([0.0030779])"
      ]
     },
     "execution_count": 62,
     "metadata": {},
     "output_type": "execute_result"
    }
   ],
   "source": [
    "linreg_model.coef_"
   ]
  },
  {
   "cell_type": "code",
   "execution_count": 63,
   "id": "through-portland",
   "metadata": {},
   "outputs": [
    {
     "data": {
      "text/plain": [
       "3.8318511348027555"
      ]
     },
     "execution_count": 63,
     "metadata": {},
     "output_type": "execute_result"
    }
   ],
   "source": [
    "linreg_model.intercept_"
   ]
  },
  {
   "cell_type": "code",
   "execution_count": 68,
   "id": "popular-cover",
   "metadata": {},
   "outputs": [
    {
     "data": {
      "text/plain": [
       "array([3.89340905])"
      ]
     },
     "execution_count": 68,
     "metadata": {},
     "output_type": "execute_result"
    }
   ],
   "source": [
    "linreg_model.predict([[20]])"
   ]
  },
  {
   "cell_type": "code",
   "execution_count": 69,
   "id": "billion-toyota",
   "metadata": {},
   "outputs": [
    {
     "data": {
      "text/plain": [
       "array([4.13964074])"
      ]
     },
     "execution_count": 69,
     "metadata": {},
     "output_type": "execute_result"
    }
   ],
   "source": [
    "linreg_model.predict([[100]])"
   ]
  },
  {
   "cell_type": "code",
   "execution_count": 1,
   "id": "isolated-precipitation",
   "metadata": {},
   "outputs": [
    {
     "ename": "NameError",
     "evalue": "name 'wine_data_clean_smaller' is not defined",
     "output_type": "error",
     "traceback": [
      "\u001b[0;31m---------------------------------------------------------------------------\u001b[0m",
      "\u001b[0;31mNameError\u001b[0m                                 Traceback (most recent call last)",
      "\u001b[0;32m<ipython-input-1-7bd71115777a>\u001b[0m in \u001b[0;36m<module>\u001b[0;34m\u001b[0m\n\u001b[0;32m----> 1\u001b[0;31m \u001b[0mwine_data_clean_smaller\u001b[0m\u001b[0;34m.\u001b[0m\u001b[0mdescribe\u001b[0m\u001b[0;34m(\u001b[0m\u001b[0;34m)\u001b[0m\u001b[0;34m\u001b[0m\u001b[0;34m\u001b[0m\u001b[0m\n\u001b[0m",
      "\u001b[0;31mNameError\u001b[0m: name 'wine_data_clean_smaller' is not defined"
     ]
    }
   ],
   "source": [
    "wine_data_clean_smaller.describe()"
   ]
  },
  {
   "cell_type": "code",
   "execution_count": null,
   "id": "affecting-nevada",
   "metadata": {},
   "outputs": [],
   "source": []
  }
 ],
 "metadata": {
  "kernelspec": {
   "display_name": "Python [conda env:metis] *",
   "language": "python",
   "name": "conda-env-metis-py"
  },
  "language_info": {
   "codemirror_mode": {
    "name": "ipython",
    "version": 3
   },
   "file_extension": ".py",
   "mimetype": "text/x-python",
   "name": "python",
   "nbconvert_exporter": "python",
   "pygments_lexer": "ipython3",
   "version": "3.8.6"
  }
 },
 "nbformat": 4,
 "nbformat_minor": 5
}
